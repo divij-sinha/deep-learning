{
  "cells": [
    {
      "cell_type": "markdown",
      "metadata": {
        "id": "k3PKsz-1SH1U"
      },
      "source": [
        "# Instructions\n",
        "\n",
        "For this assignment you will use PyTorch instead of EDF to implement and train neural networks. The experiments in this assignment will take a long time to run without a GPU, but you can run the notebook remotely on Google Colab and have access to GPUs for free -- in this case you don't have to worry about installing PyTorch as it is available by default in Google Colab's environment.\n",
        "\n",
        "In case you will be running the experiments in your own machine, you should install PyTorch -- there are multiple tutorials online and it is especially easy if you're using Anaconda. Check https://pytorch.org/tutorials/ for some PyTorch tutorials -- this assignment assumes that you know the basics like defining models with multiple modules and coding up functions to train models with PyTorch optimizers. To\n",
        "\n",
        "To use Google Colab, you should access https://colab.research.google.com/ and upload this notebook to your workspace. To use a GPU, go to Edit -> Notebook settings and select GPU as the accelerator.\n",
        "\n",
        "Unlike previous assignments, in this one you will have to do some writing instead of just coding. Try to keep your answers short and precise, and you are encouraged to write equations if needed (you can do that using markdown cells). You can also use code as part of your answers (like plotting and printing, etc). Blue text indicates questions or things that you should discuss/comment, and there will red \"ANSWER (BEGIN)\" and \"ANSWER (END)\" markdown cells to indicate that you should add cells with your writeup between these two. **Make sure not to redefine variables or functions in your writeup, which can change the behavior of the next cells.**\n",
        "\n",
        "Finally, you might have to do minor changes to the provided code due to differences in python/pytorch versions. You can post on piazza if there's a major, non-trivial change that you had to do (so other students can be aware of it and how to proceed), but for minor changes you should just apply them and keep working on the assignment."
      ]
    },
    {
      "cell_type": "code",
      "execution_count": 12,
      "metadata": {
        "id": "FD0LkiPhSH1Z"
      },
      "outputs": [],
      "source": [
        "import torch, math, copy\n",
        "import numpy as np\n",
        "from torchvision import datasets, transforms\n",
        "import torch.nn as nn\n",
        "import torch.nn.init as init\n",
        "import torch.nn.functional as F"
      ]
    },
    {
      "cell_type": "markdown",
      "metadata": {
        "id": "l0KZgSc2SH1o"
      },
      "source": [
        "# From Shallow to Deep Neural Networks\n",
        "\n",
        "The main goal of this assignment is to develop a better understanding of how the depth of a network interacts with its trainability and performance.\n",
        "\n",
        "In the previous assignment you likely observed difficulties in training sigmoid and ReLU networks with over ~8 layers, which is typically associated with 'vanishing' or 'exploding' gradients. As you will see, some of the biggest achievements in deep learning have been the development of techniques that enable deeper networks to be successfully trained, and without them deep networks are notoriously difficult to train successfully.\n",
        "\n",
        "You will be working with the MNIST dataset, which will be downloaded and loaded in the cell below."
      ]
    },
    {
      "cell_type": "code",
      "execution_count": null,
      "metadata": {
        "id": "b_qmffSoSH1o",
        "colab": {
          "base_uri": "https://localhost:8080/"
        },
        "outputId": "2d431b2e-724c-436d-86ae-601abd2910b2"
      },
      "outputs": [
        {
          "output_type": "stream",
          "name": "stdout",
          "text": [
            "Downloading http://yann.lecun.com/exdb/mnist/train-images-idx3-ubyte.gz\n",
            "Downloading http://yann.lecun.com/exdb/mnist/train-images-idx3-ubyte.gz to data/MNIST/raw/train-images-idx3-ubyte.gz\n"
          ]
        },
        {
          "output_type": "stream",
          "name": "stderr",
          "text": [
            "100%|██████████| 9912422/9912422 [00:00<00:00, 110799424.48it/s]\n"
          ]
        },
        {
          "output_type": "stream",
          "name": "stdout",
          "text": [
            "Extracting data/MNIST/raw/train-images-idx3-ubyte.gz to data/MNIST/raw\n",
            "\n",
            "Downloading http://yann.lecun.com/exdb/mnist/train-labels-idx1-ubyte.gz\n",
            "Downloading http://yann.lecun.com/exdb/mnist/train-labels-idx1-ubyte.gz to data/MNIST/raw/train-labels-idx1-ubyte.gz\n"
          ]
        },
        {
          "output_type": "stream",
          "name": "stderr",
          "text": [
            "100%|██████████| 28881/28881 [00:00<00:00, 41300952.55it/s]"
          ]
        },
        {
          "output_type": "stream",
          "name": "stdout",
          "text": [
            "Extracting data/MNIST/raw/train-labels-idx1-ubyte.gz to data/MNIST/raw\n",
            "\n",
            "Downloading http://yann.lecun.com/exdb/mnist/t10k-images-idx3-ubyte.gz\n",
            "Downloading http://yann.lecun.com/exdb/mnist/t10k-images-idx3-ubyte.gz to data/MNIST/raw/t10k-images-idx3-ubyte.gz\n"
          ]
        },
        {
          "output_type": "stream",
          "name": "stderr",
          "text": [
            "\n",
            "100%|██████████| 1648877/1648877 [00:00<00:00, 23596235.31it/s]\n"
          ]
        },
        {
          "output_type": "stream",
          "name": "stdout",
          "text": [
            "Extracting data/MNIST/raw/t10k-images-idx3-ubyte.gz to data/MNIST/raw\n",
            "\n",
            "Downloading http://yann.lecun.com/exdb/mnist/t10k-labels-idx1-ubyte.gz\n",
            "Downloading http://yann.lecun.com/exdb/mnist/t10k-labels-idx1-ubyte.gz to data/MNIST/raw/t10k-labels-idx1-ubyte.gz\n"
          ]
        },
        {
          "output_type": "stream",
          "name": "stderr",
          "text": [
            "100%|██████████| 4542/4542 [00:00<00:00, 23007884.99it/s]\n"
          ]
        },
        {
          "output_type": "stream",
          "name": "stdout",
          "text": [
            "Extracting data/MNIST/raw/t10k-labels-idx1-ubyte.gz to data/MNIST/raw\n",
            "\n"
          ]
        }
      ],
      "source": [
        "transform = transforms.Compose([transforms.ToTensor(), transforms.Normalize((0.1307,), (0.3081,))])\n",
        "\n",
        "train_dataset = datasets.MNIST(\"data\", train=True, download=True, transform=transform)\n",
        "train_loader = torch.utils.data.DataLoader(train_dataset, batch_size=256, shuffle=True)\n",
        "\n",
        "test_dataset = datasets.MNIST(\"data\", train=False, download=True, transform=transform)\n",
        "test_loader = torch.utils.data.DataLoader(test_dataset, batch_size=256, shuffle=False)"
      ]
    },
    {
      "cell_type": "markdown",
      "metadata": {
        "id": "iIviUo83SH1o"
      },
      "source": [
        "Fill the missing code below. In both train_epoch and test, total_correct should be the total number of correctly classified samples, while total_samples should be the total number of samples that have been iterated over."
      ]
    },
    {
      "cell_type": "code",
      "execution_count": 48,
      "metadata": {
        "id": "MIHugdT9SH1o"
      },
      "outputs": [],
      "source": [
        "def train(epochs, model, criterion, optimizer, train_loader, test_loader):\n",
        "    for epoch in range(epochs):\n",
        "        train_err = train_epoch(model, criterion, optimizer, train_loader)\n",
        "        test_err = test(model, test_loader)\n",
        "        print('Epoch {:03d}/{:03d}, Train Error {:.2f}% || Test Error {:.2f}%'.format(epoch+1, epochs, train_err*100, test_err*100))\n",
        "    return train_err, test_err\n",
        "\n",
        "def train_epoch(model, criterion, optimizer, loader):\n",
        "    total_correct = 0.\n",
        "    total_samples = 0.\n",
        "\n",
        "    for batch_idx, (data, target) in enumerate(loader):\n",
        "        if torch.cuda.is_available():\n",
        "            data, target = data.cuda(), target.cuda()\n",
        "\n",
        "        # insert code to feed the data to the model and collect its output\n",
        "        output = model(data)\n",
        "\n",
        "        # insert code to compute the loss from output and the true target\n",
        "        loss = criterion(output, target)\n",
        "\n",
        "        # insert code to update total_correct and total_samples\n",
        "        # total_correct: total number of correctly classified samples\n",
        "        # total_samples: total number of samples seen so far\n",
        "        total_correct += torch.sum(torch.argmax(output, 1) == target).item()\n",
        "        total_samples += target.shape[0]\n",
        "\n",
        "        # insert code to update the parameters using optimizer\n",
        "        # be careful in this part as an incorrect implementation will affect\n",
        "        # all your experiments and have a significant impact on your grade!\n",
        "        # in particular, note that pytorch does --not-- automatically\n",
        "        # clear the parameter's gradients: check tutorials to see\n",
        "        # how this can be done with a single method call.\n",
        "        optimizer.zero_grad()\n",
        "        loss.backward()\n",
        "        optimizer.step()\n",
        "\n",
        "    return 1 - total_correct/total_samples\n",
        "\n",
        "def test(model, loader):\n",
        "    total_correct = 0.\n",
        "    total_samples = 0.\n",
        "    model.eval()\n",
        "\n",
        "    with torch.no_grad():\n",
        "        for batch_idx, (data, target) in enumerate(loader):\n",
        "            if torch.cuda.is_available():\n",
        "                data, target = data.cuda(), target.cuda()\n",
        "\n",
        "            # insert code to feed the data to the model and collect its output\n",
        "            output = model(data)\n",
        "\n",
        "            # insert code to update total_correct and total_samples\n",
        "            # total_correct: total number of correctly classified samples\n",
        "            # total_samples: total number of samples seen so far\n",
        "            total_correct += torch.sum(torch.argmax(output, 1) == target).item()\n",
        "            total_samples += target.shape[0]\n",
        "\n",
        "    return 1 - total_correct/total_samples"
      ]
    },
    {
      "cell_type": "markdown",
      "metadata": {
        "id": "0cTYkX0GSH1p"
      },
      "source": [
        "### CNN with Tanh activations\n",
        "\n",
        "Next, you should implement a baseline model so you can check how increasing the number of layers can make a network considerably harder to train, given that no additional methods such as residual connections and normalization layers are adopted.\n",
        "\n",
        "Finish the implementation of CNNtanh below, carefully following the specifications:\n",
        "\n",
        "The model should have exactly 'k' many convolutional layers, followed by a linear (fully-connected) layer that actually outputs the logits for each of the 10 MNIST classes.\n",
        "\n",
        "The network should consist of 3 stages, each with k/3 many convolutional layers (you can assume k is divisible by 3). Each conv layer should have a 3x3 kernel, a stride of 1 and a padding of 1 pixel (such that the output of the convolution has the same height and width as its input).\n",
        "\n",
        "It should also have an average pooling layer at the end of each stage, with a 2x2 window (hence halving the spatial dimensions), and the number of channels should double from one stage to the other (starting with 4 in the first stage). Moreover, a Tanh activation should follow each convolution layer.\n",
        "\n",
        "When k=3, for example, the network should be:\n",
        "\n",
        "1. Stage 1 (1x28x28 input, 4x14x14 output):\n",
        "    1. Conv layer with 1 input channel and 4 output channels, 3x3 kernel, stride=padding=1\n",
        "    2. Tanh activation\n",
        "    3. Average Pool with 2x2 kernel and stride 2\n",
        "2. Stage 2 (4x14x14 input, 8x7x7 output):\n",
        "    1. Conv layer with 4 input channels and 8 output channels, 3x3 kernel, stride=padding=1\n",
        "    2. Tanh activation\n",
        "    3. Average Pool with 2x2 kernel and stride 2\n",
        "3. Stage 3 (8x7x7 input, 16x3x3 output):\n",
        "    1. Conv layer with 8 input channels and 16 output channels, 3x3 kernel, stride=padding=1\n",
        "    2. Tanh activation\n",
        "    3. Average Pool with 2x2 kernel and stride 2\n",
        "4. Fully-connected layer with 16 * 3 * 3=144 input dimension and 10 output dimension\n",
        "\n",
        "Note that the model should not have any activation after the fully-connected layer: the PyTorch loss module that will be adopted takes logits as input and not class probabilities.\n",
        "\n",
        "In contrast to the network exemplified above with k=3, when k=6 it should have two conv layers per stage instead of one (each one with a tanh activation following it).\n",
        "\n",
        "Lastly, do not change the code block with a for loop in the end of init: its purpose to randomly initialize the parameters of the conv layers by sampling from a Gaussian with zero mean and 0.05 deviation."
      ]
    },
    {
      "cell_type": "code",
      "execution_count": null,
      "metadata": {
        "id": "Xc9pl4t_SH1p"
      },
      "outputs": [],
      "source": [
        "class CNNtanh(nn.Module):\n",
        "    def __init__(self, k):\n",
        "        super(CNNtanh, self).__init__()\n",
        "\n",
        "        # write code here to instantiate layers\n",
        "        # for example, self.conv = nn.Conv2d(1, 4, 3, 1, 1)\n",
        "        # creates a conv layer with 1 input channel, 4 output\n",
        "        # channels, a 3x3 kernel, and stride=padding=1\n",
        "        self.layer_stack = nn.Sequential()\n",
        "        inp = 1\n",
        "\n",
        "        for stage in range(3): ## ANS: Loop over stages\n",
        "          inp = 1 if stage == 0 else int(math.pow(2,stage+1))\n",
        "          ## ANS: set input size as power of 2 except as 1 for first stage\n",
        "          ## i.e. 1,4,8\n",
        "          out = int(math.pow(2,stage+2))\n",
        "          ## ANS: set output size as power of 2\n",
        "          ## i.e. 4,8,16\n",
        "          for i in range(k//3):\n",
        "            self.layer_stack.add_module(f\"stage{stage+1}conv{i+1}\", nn.Conv2d(inp,out,3,1,1))\n",
        "            self.layer_stack.add_module(f\"stage{stage+1}tanh{i+1}\", nn.Tanh())\n",
        "            inp = out ## ANS: to move from first layer first stage being 1 -> 4 to second layer first step being 4 -> 4\n",
        "          self.layer_stack.add_module(f\"stage{stage+1}avgpool\", nn.AvgPool2d(2,2))\n",
        "\n",
        "        self.layer_stack.add_module(\"flatten\", nn.Flatten()) ## ANS: flatten before fully connected layer\n",
        "        self.layer_stack.add_module(\"fullyconnected\", nn.Linear(144,10))\n",
        "\n",
        "        for m in self.modules():\n",
        "            if isinstance(m, nn.Conv2d):\n",
        "                m.weight.data.normal_(0, 0.05)\n",
        "                m.bias.data.zero_()\n",
        "\n",
        "    def forward(self, input):\n",
        "\n",
        "        # write code here to define how the output u is computed\n",
        "        # from the input and the model's layers\n",
        "        # for example, u = self.conv(input) defines u\n",
        "        # to be simply the output of self.conv given 'input'\n",
        "        u = self.layer_stack(input)\n",
        "\n",
        "        return u"
      ]
    },
    {
      "cell_type": "markdown",
      "metadata": {
        "id": "rx_4tOu4uiFW"
      },
      "source": [
        "The line below just instantiates the PyTorch Cross Entropy loss, whose inputs should be logits: hence the reason that the CNN should not have an activation after last (feedforward) layer."
      ]
    },
    {
      "cell_type": "code",
      "execution_count": null,
      "metadata": {
        "id": "P4vxR4FOSH1p"
      },
      "outputs": [],
      "source": [
        "criterion = torch.nn.CrossEntropyLoss()"
      ]
    },
    {
      "cell_type": "markdown",
      "metadata": {
        "id": "jv54ar5_SH1p"
      },
      "source": [
        "Now, you should train CNNtanh with different values for k: your goal is to find the largest value for k such that the network achieves less than 20% error (either train or test) in 3 epochs. You should also choose an appropriate learning rate (but do not change the optimizer or the momentum settings!).\n",
        "\n",
        "Note that CNNs can easily achieve under 2% test error on MNIST, but we're choosing 20% as a threshold since you will be training each network for only 3 epochs.\n",
        "\n",
        "Remember to use values for k that are divisible by 3. When submitted, your notebook should have the training log of a network with two consecutive values for k (for example, 6 and 9) such that the network is 'trainable' with the smaller one but not 'trainable' with the larger one. It is fine for the training log to include runs with more than two values of k."
      ]
    },
    {
      "cell_type": "code",
      "execution_count": null,
      "metadata": {
        "id": "LhQwwlUzSH1p",
        "colab": {
          "base_uri": "https://localhost:8080/"
        },
        "outputId": "bcd79b40-d035-4b32-cba5-77463d420143"
      },
      "outputs": [
        {
          "output_type": "stream",
          "name": "stdout",
          "text": [
            "Learning rate 0.1\n",
            "\n",
            "Training Tanh CNN with 6 layers\n",
            "Epoch 001/003, Train Error 41.72% || Test Error 6.81%\n",
            "Epoch 002/003, Train Error 4.72% || Test Error 3.24%\n",
            "Epoch 003/003, Train Error 2.94% || Test Error 2.55%\n",
            "\n",
            "Training Tanh CNN with 9 layers\n",
            "Epoch 001/003, Train Error 89.16% || Test Error 88.65%\n",
            "Epoch 002/003, Train Error 88.90% || Test Error 88.65%\n",
            "Epoch 003/003, Train Error 88.91% || Test Error 88.65%\n"
          ]
        }
      ],
      "source": [
        "k_list = [6, 9]\n",
        "lr_list = [0.1]\n",
        "\n",
        "cnntanh_k_train_test_errs = np.empty((len(k_list), 3))\n",
        "\n",
        "for lr in lr_list:\n",
        "  print(\"Learning rate\", lr)\n",
        "  for idx, k in enumerate(k_list):\n",
        "    print(\"\\nTraining Tanh CNN with {} layers\".format(k))\n",
        "    model = CNNtanh(k).cuda()\n",
        "    optimizer = torch.optim.SGD(model.parameters(), lr=lr, momentum=0.9)\n",
        "    train_errs, test_errs = train(3, model, criterion, optimizer, train_loader, test_loader)\n",
        "    cnntanh_k_train_test_errs[idx] = [k, train_errs, test_errs]"
      ]
    },
    {
      "cell_type": "markdown",
      "metadata": {
        "id": "1k8-1IeISH1q"
      },
      "source": [
        "### Better Initialization\n",
        "\n",
        "Next, we will change the initialization of the conv layers and see how it affects the trainability of deep networks. Instead of sampling from a Gaussian with a deviation of 0.05, you should sample from a Gaussian with a deviation $\\sigma = \\sqrt{\\frac{1}{k^2 \\cdot C_{out}}}$ or $\\sigma = \\sqrt{\\frac{1}{k^2 \\cdot C_{in}}}$, where $k$ is the kernel size ($k=3$ for 3x3 convolutions), $C_{in}$ is the number of input channels, and $C_{out}$ the number of output channels.\n",
        "\n",
        "The model below should be exactly like CNNtanh except for the standard deviation of the normal distribution used to initialize the conv layers.\n",
        "\n",
        "The paper 'Understanding the difficulty of training deep feedforward neural networks' by Glorot and Bengio provides some intuition behind such a choice for $\\sigma$."
      ]
    },
    {
      "cell_type": "code",
      "execution_count": null,
      "metadata": {
        "id": "mLCUVVAJfm25"
      },
      "outputs": [],
      "source": [
        "class CNNtanh_newinit(nn.Module):\n",
        "    def __init__(self, k):\n",
        "        super(CNNtanh_newinit, self).__init__()\n",
        "\n",
        "        # write code here to instantiate layers\n",
        "        # for example, self.conv = nn.Conv2d(1, 4, 3, 1, 1)\n",
        "        # creates a conv layer with 1 input channel, 4 output\n",
        "        # channels, a 3x3 kernel, and stride=padding=1\n",
        "        self.layer_stack = nn.Sequential()\n",
        "        inp = 1\n",
        "\n",
        "        for stage in range(3): ## ANS: Loop over stages\n",
        "          inp = 1 if stage == 0 else int(math.pow(2,stage+1))\n",
        "          ## ANS: set input size as power of 2 except as 1 for first stage\n",
        "          ## i.e. 1,4,8\n",
        "          out = int(math.pow(2,stage+2))\n",
        "          ## ANS: set output size as power of 2\n",
        "          ## i.e. 4,8,16\n",
        "          for i in range(k//3):\n",
        "            self.layer_stack.add_module(f\"stage{stage+1}conv{i+1}\", nn.Conv2d(inp,out,3,1,1))\n",
        "            self.layer_stack.add_module(f\"stage{stage+1}tanh{i+1}\", nn.Tanh())\n",
        "            inp = out ## ANS: to move from first layer first stage being 1 -> 4 to second layer first step being 4 -> 4\n",
        "          self.layer_stack.add_module(f\"stage{stage+1}avgpool\", nn.AvgPool2d(2,2))\n",
        "\n",
        "        self.layer_stack.add_module(\"flatten\", nn.Flatten()) ## ANS: flatten before fully connected layer\n",
        "        self.layer_stack.add_module(\"fullyconnected\", nn.Linear(144,10))\n",
        "\n",
        "        for m in self.modules():\n",
        "            if isinstance(m, nn.Conv2d):\n",
        "                # insert code to compute sigma\n",
        "                sigma =  1/(math.sqrt(m.out_channels)*3) ## choosing \\sigma = sqrt(1/(C_in*(k^2)))\n",
        "                m.weight.data.normal_(0, sigma)\n",
        "                m.bias.data.zero_()\n",
        "\n",
        "    def forward(self, input):\n",
        "\n",
        "        # write code here to define how the output u is computed\n",
        "        # from the input and the model's layers\n",
        "        # for example, u = self.conv(input) defines u\n",
        "        # to be simply the output of self.conv given 'input'\n",
        "        u = self.layer_stack(input)\n",
        "\n",
        "        return u"
      ]
    },
    {
      "cell_type": "markdown",
      "metadata": {
        "id": "4_1LxL-Y0Q2A"
      },
      "source": [
        "Repeat the procedure of finding the maximum number of layers such that the network is still trainable, this time with CNNtanhinit."
      ]
    },
    {
      "cell_type": "code",
      "execution_count": null,
      "metadata": {
        "id": "wEGmH8CASH1q",
        "colab": {
          "base_uri": "https://localhost:8080/"
        },
        "outputId": "d56d89e7-ed73-40ef-cfb8-7cdae5bbe97b"
      },
      "outputs": [
        {
          "output_type": "stream",
          "name": "stdout",
          "text": [
            "Learning rate 0.1\n",
            "\n",
            "Training Tanh CNN + new init with 39 layers\n",
            "Epoch 001/003, Train Error 30.38% || Test Error 5.33%\n",
            "Epoch 002/003, Train Error 4.76% || Test Error 3.13%\n",
            "Epoch 003/003, Train Error 3.77% || Test Error 2.56%\n",
            "\n",
            "Training Tanh CNN + new init with 42 layers\n",
            "Epoch 001/003, Train Error 89.20% || Test Error 89.72%\n",
            "Epoch 002/003, Train Error 89.00% || Test Error 88.65%\n",
            "Epoch 003/003, Train Error 89.03% || Test Error 90.20%\n"
          ]
        }
      ],
      "source": [
        "k_list = [39, 42]\n",
        "lr_list = [0.1]\n",
        "\n",
        "cnntanhinit_k_train_test_errs = np.empty((len(k_list), 3))\n",
        "\n",
        "for lr in lr_list:\n",
        "  print(\"Learning rate\", lr)\n",
        "  for idx, k in enumerate(k_list):\n",
        "    print(\"\\nTraining Tanh CNN + new init with {} layers\".format(k))\n",
        "    model = CNNtanh_newinit(k).cuda()\n",
        "    optimizer = torch.optim.SGD(model.parameters(), lr=lr, momentum=0.9)\n",
        "    train_errs, test_errs = train(3, model, criterion, optimizer, train_loader, test_loader)\n",
        "    cnntanhinit_k_train_test_errs[idx] = [k, train_errs, test_errs]"
      ]
    },
    {
      "cell_type": "markdown",
      "metadata": {
        "id": "VkVRwRkW0rkQ"
      },
      "source": [
        "### CNN with ELU activations\n",
        "\n",
        "In this section you should replace the Tanh activations of the previous network for Exponential Linear Units (ELUs). Complete CNNelu below, which should be exactly like CNNtanhinit except for ELU activations instead of Tanh (ELUs are readily available in PyTorch, check its documentation for more details)."
      ]
    },
    {
      "cell_type": "code",
      "execution_count": null,
      "metadata": {
        "id": "xFyLrax5SH1t"
      },
      "outputs": [],
      "source": [
        "class CNNelu(nn.Module):\n",
        "    def __init__(self, k):\n",
        "        super(CNNelu, self).__init__()\n",
        "\n",
        "        # write code here to instantiate layers\n",
        "        # for example, self.conv = nn.Conv2d(1, 4, 3, 1, 1)\n",
        "        # creates a conv layer with 1 input channel, 4 output\n",
        "        # channels, a 3x3 kernel, and stride=padding=1\n",
        "        self.layer_stack = nn.Sequential()\n",
        "        inp = 1\n",
        "\n",
        "        for stage in range(3): ## ANS: Loop over stages\n",
        "          inp = 1 if stage == 0 else int(math.pow(2,stage+1))\n",
        "          ## ANS: set input size as power of 2 except as 1 for first stage\n",
        "          ## i.e. 1,4,8\n",
        "          out = int(math.pow(2,stage+2))\n",
        "          ## ANS: set output size as power of 2\n",
        "          ## i.e. 4,8,16\n",
        "          for i in range(k//3):\n",
        "            self.layer_stack.add_module(f\"stage{stage+1}conv{i+1}\", nn.Conv2d(inp,out,3,1,1))\n",
        "            self.layer_stack.add_module(f\"stage{stage+1}elu{i+1}\", nn.ELU())\n",
        "            inp = out ## ANS: to move from first layer first stage being 1 -> 4 to second layer first step being 4 -> 4\n",
        "          self.layer_stack.add_module(f\"stage{stage+1}avgpool\", nn.AvgPool2d(2,2))\n",
        "\n",
        "        self.layer_stack.add_module(\"flatten\", nn.Flatten()) ## ANS: flatten before fully connected layer\n",
        "        self.layer_stack.add_module(\"fullyconnected\", nn.Linear(144,10))\n",
        "\n",
        "        for m in self.modules():\n",
        "            if isinstance(m, nn.Conv2d):\n",
        "                # insert code to compute sigma\n",
        "                sigma = 1/(math.sqrt(m.out_channels)*3) ## choosing \\sigma = sqrt(1/(C_in*(k^2)))\n",
        "                m.weight.data.normal_(0, sigma)\n",
        "                m.bias.data.zero_()\n",
        "\n",
        "    def forward(self, input):\n",
        "\n",
        "        # write code here to define how the output u is computed\n",
        "        # from the input and the model's layers\n",
        "        # for example, u = self.conv(input) defines u\n",
        "        # to be simply the output of self.conv given 'input'\n",
        "        u = self.layer_stack(input)\n",
        "\n",
        "        return u"
      ]
    },
    {
      "cell_type": "markdown",
      "metadata": {
        "id": "f2toBBTt1ZU5"
      },
      "source": [
        "Repeat the procedure of finding the maximum number of layers such that the network is still trainable, this time with CNNelu."
      ]
    },
    {
      "cell_type": "code",
      "execution_count": null,
      "metadata": {
        "id": "AmvJJuH73jgj",
        "colab": {
          "base_uri": "https://localhost:8080/"
        },
        "outputId": "93a3f713-638c-435b-b002-3a2d31dd2f7f"
      },
      "outputs": [
        {
          "output_type": "stream",
          "name": "stdout",
          "text": [
            "Learning rate 0.01\n",
            "\n",
            "Training ELU CNN, with 84 layers\n",
            "Epoch 001/003, Train Error 82.44% || Test Error 62.46%\n",
            "Epoch 002/003, Train Error 47.15% || Test Error 26.67%\n",
            "Epoch 003/003, Train Error 19.69% || Test Error 8.13%\n",
            "\n",
            "Training ELU CNN, with 87 layers\n",
            "Epoch 001/003, Train Error 88.88% || Test Error 88.65%\n",
            "Epoch 002/003, Train Error 88.76% || Test Error 88.65%\n",
            "Epoch 003/003, Train Error 88.76% || Test Error 88.65%\n"
          ]
        }
      ],
      "source": [
        "k_list = [84, 87]\n",
        "lr_list = [0.01]\n",
        "\n",
        "cnnelu_k_train_test_errs = np.empty((len(k_list), 3))\n",
        "\n",
        "for lr in lr_list:\n",
        "  print(\"Learning rate\", lr)\n",
        "  for idx, k in enumerate(k_list):\n",
        "    print(\"\\nTraining ELU CNN, with {} layers\".format(k))\n",
        "    model = CNNelu(k).cuda()\n",
        "    optimizer = torch.optim.SGD(model.parameters(), lr=lr, momentum=0.9)\n",
        "    train_errs, test_errs = train(3, model, criterion, optimizer, train_loader, test_loader)\n",
        "    cnnelu_k_train_test_errs[idx] = [k, train_errs, test_errs]"
      ]
    },
    {
      "cell_type": "markdown",
      "metadata": {
        "id": "EjhF18tS1hVw"
      },
      "source": [
        "### CNN with Batch Normalization\n",
        "\n",
        "Next, you will check how batch normalization can make deep networks easier to train. Implement the network below, which should be exactly like CNNelu except for additional BatchNorm2d layers after each convolution (before the ELU activation).\n",
        "\n",
        "Note that BatchNorm2d modules require the number of channels as argument -- see the PyTorch documentation for more details."
      ]
    },
    {
      "cell_type": "code",
      "execution_count": 23,
      "metadata": {
        "id": "AHqz0bqbDKEo"
      },
      "outputs": [],
      "source": [
        "class CNNeluBN(nn.Module):\n",
        "    def __init__(self, k):\n",
        "        super(CNNeluBN, self).__init__()\n",
        "\n",
        "        # write code here to instantiate layers\n",
        "        # for example, self.conv = nn.Conv2d(1, 4, 3, 1, 1)\n",
        "        # creates a conv layer with 1 input channel, 4 output\n",
        "        # channels, a 3x3 kernel, and stride=padding=1\n",
        "        self.layer_stack = nn.Sequential()\n",
        "        inp = 1\n",
        "\n",
        "        for stage in range(3): ## ANS: Loop over stages\n",
        "          inp = 1 if stage == 0 else int(math.pow(2,stage+1))\n",
        "          ## ANS: set input size as power of 2 except as 1 for first stage\n",
        "          ## i.e. 1,4,8\n",
        "          out = int(math.pow(2,stage+2))\n",
        "          ## ANS: set output size as power of 2\n",
        "          ## i.e. 4,8,16\n",
        "          for i in range(k//3):\n",
        "            self.layer_stack.add_module(f\"stage{stage+1}conv{i+1}\", nn.Conv2d(inp,out,3,1,1))\n",
        "            self.layer_stack.add_module(f\"stage{stage+1}bn{i+1}\", nn.BatchNorm2d(out))\n",
        "            self.layer_stack.add_module(f\"stage{stage+1}elu{i+1}\", nn.ELU())\n",
        "            inp = out ## ANS: to move from first layer first stage being 1 -> 4 to second layer first step being 4 -> 4\n",
        "          self.layer_stack.add_module(f\"stage{stage+1}avgpool\", nn.AvgPool2d(2,2))\n",
        "\n",
        "        self.layer_stack.add_module(\"flatten\", nn.Flatten()) ## ANS: flatten before fully connected layer\n",
        "        self.layer_stack.add_module(\"fullyconnected\", nn.Linear(144,10))\n",
        "\n",
        "        for m in self.modules():\n",
        "            if isinstance(m, nn.Conv2d):\n",
        "                # insert code to compute sigma\n",
        "                sigma = 1/(math.sqrt(m.out_channels)*3) ## choosing \\sigma = sqrt(1/(C_in*(k^2)))\n",
        "                m.weight.data.normal_(0, sigma)\n",
        "                m.bias.data.zero_()\n",
        "\n",
        "    def forward(self, input):\n",
        "\n",
        "        # write code here to define how the output u is computed\n",
        "        # from the input and the model's layers\n",
        "        # for example, u = self.conv(input) defines u\n",
        "        # to be simply the output of self.conv given 'input'\n",
        "        u = self.layer_stack(input)\n",
        "        return u"
      ]
    },
    {
      "cell_type": "markdown",
      "metadata": {
        "id": "_WqDqDmG2eAo"
      },
      "source": [
        "Repeat the procedure of finding the maximum number of layers such that the network is still trainable, this time with CNNeluBN."
      ]
    },
    {
      "cell_type": "code",
      "execution_count": null,
      "metadata": {
        "id": "lTDiRg9kERsH",
        "colab": {
          "base_uri": "https://localhost:8080/"
        },
        "outputId": "72fe313d-3033-4e05-e497-ab532efea130"
      },
      "outputs": [
        {
          "output_type": "stream",
          "name": "stdout",
          "text": [
            "Learning rate 0.005\n",
            "\n",
            "Training ELU CNN + BN with 162 layers\n",
            "Epoch 001/003, Train Error 51.17% || Test Error 31.68%\n",
            "Epoch 002/003, Train Error 26.97% || Test Error 18.46%\n",
            "Epoch 003/003, Train Error 14.45% || Test Error 11.16%\n",
            "\n",
            "Training ELU CNN + BN with 165 layers\n",
            "Epoch 001/003, Train Error 81.70% || Test Error 66.53%\n",
            "Epoch 002/003, Train Error 58.88% || Test Error 47.62%\n",
            "Epoch 003/003, Train Error 36.60% || Test Error 30.09%\n"
          ]
        }
      ],
      "source": [
        "k_list = [162, 165]\n",
        "lr_list = [0.005]\n",
        "\n",
        "cnnelubn_k_train_test_errs = np.empty((len(k_list), 3))\n",
        "\n",
        "for lr in lr_list:\n",
        "  print(\"Learning rate\", lr)\n",
        "  for idx, k in enumerate(k_list):\n",
        "    print(\"\\nTraining ELU CNN + BN with {} layers\".format(k))\n",
        "    model = CNNeluBN(k).cuda()\n",
        "    optimizer = torch.optim.SGD(model.parameters(), lr=lr, momentum=0.9)\n",
        "    train_errs, test_errs = train(3, model, criterion, optimizer, train_loader, test_loader)"
      ]
    },
    {
      "cell_type": "markdown",
      "metadata": {
        "id": "0LOZfZtl2gcg"
      },
      "source": [
        "### Residual Networks\n",
        "\n",
        "Finally, you experiment adding residual connections to a CNN.\n",
        "\n",
        "To implement the model below, you should add a 'skip connection' to 'Conv->BatchNorm->ELU' blocks whenever the shape of the block's input and output are the same: this will be the case for every such block except for the first ones in each stage, as they double the number of channels.\n",
        "\n",
        "More specifically, you should change $u = ELU(BatchNorm(Conv(x)))$ to $u = ELU(BatchNorm(Conv(x))) + x$, where $x$ and $u$ denote the block's input and output, respectively.\n",
        "\n",
        "You should take your CNNeluBN implementation and add skip-connections as described above.\n",
        "\n",
        "Note that there are key differences between the resulting model and the actual ResNet proposed by He et al. in 'Deep Residual Learning for Image Recognition', for example the use of ELU activations instead of ReLU and the exact position of skip-connections."
      ]
    },
    {
      "cell_type": "code",
      "execution_count": 94,
      "metadata": {
        "id": "wA6ItpH-GpK_"
      },
      "outputs": [],
      "source": [
        "class ResNet(nn.Module):\n",
        "    def __init__(self, k):\n",
        "        super(ResNet, self).__init__()\n",
        "\n",
        "        # write code here to instantiate layers\n",
        "        # for example, self.conv = nn.Conv2d(1, 4, 3, 1, 1)\n",
        "        # creates a conv layer with 1 input channel, 4 output\n",
        "        # channels, a 3x3 kernel, and stride=padding=1\n",
        "        self.k = k\n",
        "\n",
        "        self.layer_stack = nn.Sequential()\n",
        "        inp = 1\n",
        "\n",
        "        for stage in range(3): ## ANS: Loop over stages\n",
        "          inp = 1 if stage == 0 else int(math.pow(2,stage+1))\n",
        "          ## ANS: set input size as power of 2 except as 1 for first stage\n",
        "          ## i.e. 1,4,8\n",
        "          out = int(math.pow(2,stage+2))\n",
        "          ## ANS: set output size as power of 2\n",
        "          ## i.e. 4,8,16\n",
        "          for i in range(k//3):\n",
        "            self.layer_stack.add_module(f\"stage{stage+1}conv{i+1}\", nn.Conv2d(inp,out,3,1,1))\n",
        "            self.layer_stack.add_module(f\"stage{stage+1}bn{i+1}\", nn.BatchNorm2d(out))\n",
        "            self.layer_stack.add_module(f\"stage{stage+1}elu{i+1}\", nn.ELU())\n",
        "            inp = out ## ANS: to move from first layer first stage being 1 -> 4 to second layer first step being 4 -> 4\n",
        "          self.layer_stack.add_module(f\"stage{stage+1}avgpool\", nn.AvgPool2d(2,2))\n",
        "\n",
        "        self.layer_stack.add_module(\"flatten\", nn.Flatten()) ## ANS: flatten before fully connected layer\n",
        "        self.layer_stack.add_module(\"fullyconnected\", nn.Linear(144,10))\n",
        "\n",
        "\n",
        "        for m in self.modules():\n",
        "            if isinstance(m, nn.Conv2d):\n",
        "                # insert code to compute sigma\n",
        "                sigma = 1/(math.sqrt(m.out_channels)*3) ## choosing \\sigma = sqrt(1/(C_in*(k^2)))\n",
        "                m.weight.data.normal_(0, sigma)\n",
        "                m.bias.data.zero_()\n",
        "\n",
        "    def forward(self, input):\n",
        "\n",
        "        # write code here to define how the output u is computed\n",
        "        # from the input and the model's layers\n",
        "        # for example, u = self.conv(input) defines u\n",
        "        # to be simply the output of self.conv given 'input'\n",
        "\n",
        "        out = input\n",
        "\n",
        "        for i in range(self.k//3):\n",
        "          l = i*3\n",
        "          # print(l, self.layer_stack[l])\n",
        "          # print(0, (k-3))\n",
        "          # if((l!=0) and (l!=(k-3))):\n",
        "          if((l!=0)):\n",
        "            # print(\"add!\")\n",
        "            out = self.layer_stack[l+2](self.layer_stack[l+1](self.layer_stack[l](out))) + out\n",
        "          else:\n",
        "            out = self.layer_stack[l+2](self.layer_stack[l+1](self.layer_stack[l](out)))\n",
        "\n",
        "        out = self.layer_stack[k](out)\n",
        "\n",
        "        for i in range((self.k//3), ((self.k*2)//3)):\n",
        "          l = (i*3)+1\n",
        "          # print(l, self.layer_stack[l])\n",
        "          # print((k+1), ((k*2)-2))\n",
        "          # if(l!=(k+1) and (l!=((k*2)-2))):\n",
        "          if(l!=(k+1)):\n",
        "            # print(\"add!\")\n",
        "            out = self.layer_stack[l+2](self.layer_stack[l+1](self.layer_stack[l](out))) + out\n",
        "          else:\n",
        "            out = self.layer_stack[l+2](self.layer_stack[l+1](self.layer_stack[l](out)))\n",
        "\n",
        "        out = self.layer_stack[(k*2)+1](out)\n",
        "\n",
        "        for i in range((self.k//3)*2, ((self.k*3)//3)):\n",
        "          l = (i*3)+2\n",
        "          # print(l, self.layer_stack[l])\n",
        "          # print(((k*2)+2), ((k*3)-1))\n",
        "          # if(l!=((k*2)+2) and (l!=((k*3)-1))):\n",
        "          if(l!=((k*2)+2)):\n",
        "            # print(\"add!\")\n",
        "            out = self.layer_stack[l+2](self.layer_stack[l+1](self.layer_stack[l](out))) + out\n",
        "          else:\n",
        "            out = self.layer_stack[l+2](self.layer_stack[l+1](self.layer_stack[l](out)))\n",
        "\n",
        "        out = self.layer_stack[(k*3)+2](out)\n",
        "        out = self.layer_stack[(k*3)+3](out)\n",
        "        out = self.layer_stack[(k*3)+4](out)\n",
        "\n",
        "        return out"
      ]
    },
    {
      "cell_type": "markdown",
      "metadata": {
        "id": "aWHYn08j5kqb"
      },
      "source": [
        "Repeat the procedure of finding the maximum number of layers such that the network is still trainable, this time with the 'ResNet' model."
      ]
    },
    {
      "cell_type": "code",
      "execution_count": 120,
      "metadata": {
        "id": "-UJLiaGzJv1j",
        "colab": {
          "base_uri": "https://localhost:8080/"
        },
        "outputId": "269f62fe-c7e1-45a0-9090-46c2c4f15b68"
      },
      "outputs": [
        {
          "output_type": "stream",
          "name": "stdout",
          "text": [
            "Learning rate 0.005\n",
            "\n",
            "Training ResNet with 900 layers\n",
            "Epoch 001/003, Train Error 63.51% || Test Error 33.50%\n",
            "Epoch 002/003, Train Error 27.29% || Test Error 21.52%\n",
            "Epoch 003/003, Train Error 19.16% || Test Error 16.14%\n"
          ]
        }
      ],
      "source": [
        "k_list = [900]\n",
        "lr_list = [0.005]\n",
        "\n",
        "resnet_k_train_test_errs = np.empty((len(k_list), 3))\n",
        "\n",
        "for lr in lr_list:\n",
        "  print(\"Learning rate\", lr)\n",
        "  for idx, k in enumerate(k_list):\n",
        "    print(\"\\nTraining ResNet with {} layers\".format(k))\n",
        "    model = ResNet(k).cuda()\n",
        "    optimizer = torch.optim.SGD(model.parameters(), lr=lr, momentum=0.9)\n",
        "    train_errs, test_errs = train(3, model, criterion, optimizer, train_loader, test_loader)"
      ]
    },
    {
      "cell_type": "markdown",
      "metadata": {
        "id": "NdSKAR4U51pQ"
      },
      "source": [
        "**<font color='blue'>\n",
        "    Summarize your results and observations regarding the experiments above. What was the maximum number of layers for each of the five models such that training remained successful? Briefly discuss why you think each modification helped/harmed the trainability of deep models.\n",
        "</font>**\n",
        "\n",
        "**<font color='red'> --------------------------------------------------------------------- ANSWER (BEGIN) ---------------------------------------------------------------------\n",
        "</font>**"
      ]
    },
    {
      "cell_type": "markdown",
      "source": [
        "This was an interesting and insightful experiment to figure out what works and does not work in practice. As someone who had not run a lot of ML models before this, this was a great place to get some insight into differing techniques and how they interact with one another.\n",
        "\n",
        "We started off with the Tanh model. This was quite similar to the previous assignment and we hit similar depths, where the model worked fine for k=6, but failed at k=9.\n",
        "\n",
        "The second attempt we made was using the better initialisation as mentioned. This really helped avoid the early vanishing/exploding gradient problems of the Tanh model, and we were able to train close to 40 layers! k=39 seemed to work, while k=42 did not.\n",
        "\n",
        "Replacing the tanh with ELU activation functions worked even better with us being able to effectively double the number of layers of possible. We are able to train models effectively for k=84, with k=87 failing to converge. This seems to be because compared to tanh, ELU helps a lot. It does not saturate on one end like Tanh does. Also ELU being assymetric around 0 might help a little?\n",
        "\n",
        "Moving to the next function, we try batch normalisation. This ends up also massively improving our performance, we end up being able to train upto k=162 layers, with k=165 layers failing. Batch normalisation works really really well! This seems to be because again, it stops the exploding gradients, and also takes some of the effect of the sensitivity to the batch size away. It scales all layers to being in a range, and that massively helps stability.\n",
        "\n",
        "Finally we get to residual networks! This again helps our stability massively as we are always keeping the next conv input to the same order of magnitude as the previous one. The residual also does not allow the signal to ever die down, always keeping some of the past signal alive. This provides us huge leaps in trainability with k=900 being trainable! It takes about 20 minutes to run a single k value at this depth on Colab so I was unable to search for the edge where we fail to converge. Needless to say, resnet is an absolute monster and a winner in terms of depth!"
      ],
      "metadata": {
        "id": "4naCRCRb3x50"
      }
    },
    {
      "cell_type": "markdown",
      "metadata": {
        "id": "_UHHtGGk6YSd"
      },
      "source": [
        "**<font color='red'> ---------------------------------------------------------------------- ANSWER (END) ----------------------------------------------------------------------\n",
        "</font>**"
      ]
    },
    {
      "cell_type": "markdown",
      "metadata": {
        "id": "qHhjz1IT7rB4"
      },
      "source": [
        "### Interactions: Batch Norm and Initialization\n",
        "\n",
        "Intuitively, batch norm should make the model more robust to changes in the magnitude of the network's weights: informally, scaling up all the elements of a conv layer's filters by a factor of 10 would not affect the network's output as long as there is a batch norm layer following such convolution, as the normalization would undo the scaling.\n",
        "\n",
        "To check how this intuition translates to practical settings, you should change the original 'CNNtanh' model so that it incorporates batch norm layers (like you have done when modifying 'CNNelu' into 'CNNeluBN').\n",
        "\n",
        "The model below should adopt the naive initialization procedure of sampling from a Gaussian with a deviation of 0.05, not the more sophisticated one that you implemented previously"
      ]
    },
    {
      "cell_type": "code",
      "execution_count": 15,
      "metadata": {
        "id": "8405idig8QGw"
      },
      "outputs": [],
      "source": [
        "class CNNtanhBN_oldinit(nn.Module):\n",
        "    def __init__(self, k):\n",
        "        super(CNNtanhBN_oldinit, self).__init__()\n",
        "\n",
        "        # write code here to instantiate layers\n",
        "        # for example, self.conv = nn.Conv2d(1, 4, 3, 1, 1)\n",
        "        # creates a conv layer with 1 input channel, 4 output\n",
        "        # channels, a 3x3 kernel, and stride=padding=1\n",
        "        self.layer_stack = nn.Sequential()\n",
        "        inp = 1\n",
        "\n",
        "        for stage in range(3): ## ANS: Loop over stages\n",
        "          inp = 1 if stage == 0 else int(math.pow(2,stage+1))\n",
        "          ## ANS: set input size as power of 2 except as 1 for first stage\n",
        "          ## i.e. 1,4,8\n",
        "          out = int(math.pow(2,stage+2))\n",
        "          ## ANS: set output size as power of 2\n",
        "          ## i.e. 4,8,16\n",
        "          for i in range(k//3):\n",
        "            self.layer_stack.add_module(f\"stage{stage+1}conv{i+1}\", nn.Conv2d(inp,out,3,1,1))\n",
        "            self.layer_stack.add_module(f\"stage{stage+1}bn{i+1}\", nn.BatchNorm2d(out))\n",
        "            self.layer_stack.add_module(f\"stage{stage+1}tanh{i+1}\", nn.Tanh())\n",
        "            inp = out ## ANS: to move from first layer first stage being 1 -> 4 to second layer first step being 4 -> 4\n",
        "          self.layer_stack.add_module(f\"stage{stage+1}avgpool\", nn.AvgPool2d(2,2))\n",
        "\n",
        "        self.layer_stack.add_module(\"flatten\", nn.Flatten()) ## ANS: flatten before fully connected layer\n",
        "        self.layer_stack.add_module(\"fullyconnected\", nn.Linear(144,10))\n",
        "\n",
        "        for m in self.modules():\n",
        "            if isinstance(m, nn.Conv2d):\n",
        "                m.weight.data.normal_(0, 0.05)\n",
        "                m.bias.data.zero_()\n",
        "\n",
        "    def forward(self, input):\n",
        "\n",
        "        # write code here to define how the output u is computed\n",
        "        # from the input and the model's layers\n",
        "        # for example, u = self.conv(input) defines u\n",
        "        # to be simply the output of self.conv given 'input'\n",
        "        u = self.layer_stack(input)\n",
        "\n",
        "        return u"
      ]
    },
    {
      "cell_type": "markdown",
      "metadata": {
        "id": "bvZsUFsl-0-n"
      },
      "source": [
        "Repeat the procedure of finding the maximum number of layers such that the network is still trainable, this time with CNNeluBN_oldinit."
      ]
    },
    {
      "cell_type": "code",
      "execution_count": 21,
      "metadata": {
        "id": "sYeWhIOpAnAp",
        "colab": {
          "base_uri": "https://localhost:8080/"
        },
        "outputId": "c2a001d9-01cd-498a-a7e8-28b50633c3b8"
      },
      "outputs": [
        {
          "output_type": "stream",
          "name": "stdout",
          "text": [
            "Learning rate 0.05\n",
            "\n",
            "Training Tanh CNN + BN + naive init with 45 layers\n",
            "Epoch 001/003, Train Error 27.61% || Test Error 8.57%\n",
            "Epoch 002/003, Train Error 7.40% || Test Error 5.10%\n",
            "Epoch 003/003, Train Error 4.43% || Test Error 3.17%\n",
            "\n",
            "Training Tanh CNN + BN + naive init with 48 layers\n",
            "Epoch 001/003, Train Error 21.44% || Test Error 9.07%\n",
            "Epoch 002/003, Train Error 6.47% || Test Error 3.58%\n",
            "Epoch 003/003, Train Error 3.65% || Test Error 3.15%\n",
            "\n",
            "Training Tanh CNN + BN + naive init with 51 layers\n",
            "Epoch 001/003, Train Error 19.20% || Test Error 7.35%\n",
            "Epoch 002/003, Train Error 86.16% || Test Error 88.65%\n",
            "Epoch 003/003, Train Error 88.88% || Test Error 88.65%\n"
          ]
        }
      ],
      "source": [
        "k_list = [45, 48, 51]\n",
        "lr_list = [0.05]\n",
        "\n",
        "cnntanhinit_k_train_test_errs = np.empty((len(k_list), 3))\n",
        "\n",
        "for lr in lr_list:\n",
        "  print(\"Learning rate\", lr)\n",
        "  for idx, k in enumerate(k_list):\n",
        "    print(\"\\nTraining Tanh CNN + BN + naive init with {} layers\".format(k))\n",
        "    model = CNNtanhBN_oldinit(k).cuda()\n",
        "    optimizer = torch.optim.SGD(model.parameters(), lr=lr, momentum=0.9)\n",
        "    train_errs, test_errs = train(3, model, criterion, optimizer, train_loader, test_loader)"
      ]
    },
    {
      "cell_type": "markdown",
      "metadata": {
        "id": "n6m_C2V--8EI"
      },
      "source": [
        "**<font color='blue'>\n",
        "    Compare CNNtanh (model with naive initialization and no batch norm), CNNtanh_newinit (model with better initialization and no batch norm), and CNNtanhBN_oldinit (model with naive initialization and batch norm), in terms of how deep each could be while being trainable, and discuss your thoughts one how batch norm interacts with the way parameters are initialized.\n",
        "</font>**\n",
        "\n",
        "**<font color='red'> --------------------------------------------------------------------- ANSWER (BEGIN) ---------------------------------------------------------------------\n",
        "</font>**"
      ]
    },
    {
      "cell_type": "markdown",
      "source": [
        "CNNtanh is by far the worst one in terms of being trainable, only ever reaching 6 layers. CNNtanh_newinit is much better by being able to go up to k=39. Compared to these two CNNtanhBN_oldinit is much closer to the second one. Informally, the intuition of BN being able to \"reverse\" the better inititalisation seems to hold true, and BN also seems to bring its own improvements along with that. It is interesting how taking a step \"backward\" to worse initialisation and adding BatchNorm, moves our performance not only back to the better initialisation method but actually goes slightly further than that and gives us k = 48 being trainable!"
      ],
      "metadata": {
        "id": "Ytiu7K-77Rt8"
      }
    },
    {
      "cell_type": "markdown",
      "metadata": {
        "id": "l428K7CT-9mp"
      },
      "source": [
        "**<font color='red'> ---------------------------------------------------------------------- ANSWER (END) ----------------------------------------------------------------------\n",
        "</font>**"
      ]
    },
    {
      "cell_type": "markdown",
      "metadata": {
        "id": "GkrAaQgIBnQt"
      },
      "source": [
        "### Interactions: Batch Norm and Residual Connections\n",
        "\n",
        "Lastly, implement and train a CNN with residual connections but without batch normalization layers -- the goal here is to check how residuals interact with normalization.\n",
        "\n",
        "The model below should be exactly like ResNet, except that it should not have batch norm layers."
      ]
    },
    {
      "cell_type": "code",
      "execution_count": 118,
      "metadata": {
        "id": "eK05o-N4B3kG"
      },
      "outputs": [],
      "source": [
        "class ResNet_noBN(nn.Module):\n",
        "    def __init__(self, k):\n",
        "        super(ResNet_noBN, self).__init__()\n",
        "\n",
        "        # write code here to instantiate layers\n",
        "        # for example, self.conv = nn.Conv2d(1, 4, 3, 1, 1)\n",
        "        # creates a conv layer with 1 input channel, 4 output\n",
        "        # channels, a 3x3 kernel, and stride=padding=1\n",
        "        self.k = k\n",
        "\n",
        "        self.layer_stack = nn.Sequential()\n",
        "        inp = 1\n",
        "\n",
        "        for stage in range(3): ## ANS: Loop over stages\n",
        "          inp = 1 if stage == 0 else int(math.pow(2,stage+1))\n",
        "          ## ANS: set input size as power of 2 except as 1 for first stage\n",
        "          ## i.e. 1,4,8\n",
        "          out = int(math.pow(2,stage+2))\n",
        "          ## ANS: set output size as power of 2\n",
        "          ## i.e. 4,8,16\n",
        "          for i in range(k//3):\n",
        "            self.layer_stack.add_module(f\"stage{stage+1}conv{i+1}\", nn.Conv2d(inp,out,3,1,1))\n",
        "            # self.layer_stack.add_module(f\"stage{stage+1}bn{i+1}\", nn.BatchNorm2d(out))\n",
        "            self.layer_stack.add_module(f\"stage{stage+1}elu{i+1}\", nn.ELU())\n",
        "            inp = out ## ANS: to move from first layer first stage being 1 -> 4 to second layer first step being 4 -> 4\n",
        "          self.layer_stack.add_module(f\"stage{stage+1}avgpool\", nn.AvgPool2d(2,2))\n",
        "\n",
        "        self.layer_stack.add_module(\"flatten\", nn.Flatten()) ## ANS: flatten before fully connected layer\n",
        "        self.layer_stack.add_module(\"fullyconnected\", nn.Linear(144,10))\n",
        "\n",
        "        for m in self.modules():\n",
        "            if isinstance(m, nn.Conv2d):\n",
        "                # insert code to compute sigma\n",
        "                sigma = 1/(math.sqrt(m.out_channels)*3) ## choosing \\sigma = sqrt(1/(C_in*(k^2)))\n",
        "                m.weight.data.normal_(0, sigma)\n",
        "                m.bias.data.zero_()\n",
        "\n",
        "    def forward(self, input):\n",
        "\n",
        "        # write code here to define how the output u is computed\n",
        "        # from the input and the model's layers\n",
        "        # for example, u = self.conv(input) defines u\n",
        "        # to be simply the output of self.conv given 'input'\n",
        "\n",
        "        out = input\n",
        "\n",
        "        for i in range(self.k//3):\n",
        "          l = i*2\n",
        "          # print(l, self.layer_stack[l])\n",
        "          # print(0, (k-3))\n",
        "          # if((l!=0) and (l!=(k-3))):\n",
        "          if((l!=0)):\n",
        "            # print(\"add!\")\n",
        "            out = self.layer_stack[l+1](self.layer_stack[l](out)) + out\n",
        "          else:\n",
        "            out = self.layer_stack[l+1](self.layer_stack[l](out))\n",
        "\n",
        "        out = self.layer_stack[int((2*k)/3)](out)\n",
        "\n",
        "        for i in range((self.k//3), ((self.k*2)//3)):\n",
        "          l = (i*2)+1\n",
        "          # print(l, self.layer_stack[l])\n",
        "          # print((k+1), ((k*2)-2))\n",
        "          # if(l!=(k+1) and (l!=((k*2)-2))):\n",
        "          if(l!=(int((2*k)/3)+1)):\n",
        "            # print(\"add!\")\n",
        "            out = self.layer_stack[l+1](self.layer_stack[l](out)) + out\n",
        "          else:\n",
        "            out = self.layer_stack[l+1](self.layer_stack[l](out))\n",
        "\n",
        "        out = self.layer_stack[int((k*4)/3)+1](out)\n",
        "\n",
        "        for i in range((self.k//3)*2, ((self.k*3)//3)):\n",
        "          l = (i*2)+2\n",
        "          # print(l, self.layer_stack[l])\n",
        "          # print(((k*2)+2), ((k*3)-1))\n",
        "          # if(l!=((k*2)+2) and (l!=((k*3)-1))):\n",
        "          if(l!=(int((k*4)/3)+2)):\n",
        "            # print(\"add!\")\n",
        "            out = self.layer_stack[l+1](self.layer_stack[l](out)) + out\n",
        "          else:\n",
        "            out = self.layer_stack[l+1](self.layer_stack[l](out))\n",
        "\n",
        "        out = self.layer_stack[int(k*2)+2](out)\n",
        "        out = self.layer_stack[int(k*2)+3](out)\n",
        "        out = self.layer_stack[int(k*2)+4](out)\n",
        "\n",
        "        return out"
      ]
    },
    {
      "cell_type": "markdown",
      "metadata": {
        "id": "PQLzjaz0CJFk"
      },
      "source": [
        "Repeat the procedure of finding the maximum number of layers such that the network is still trainable, this time with ResNet_noBN."
      ]
    },
    {
      "cell_type": "code",
      "source": [
        "k_list = [18, 21, 24]\n",
        "lr_list = [0.005]\n",
        "\n",
        "resnet_k_train_test_errs = np.empty((len(k_list), 3))\n",
        "\n",
        "for lr in lr_list:\n",
        "  print(\"Learning rate\", lr)\n",
        "  for idx, k in enumerate(k_list):\n",
        "    print(\"\\nTraining ResNet w/o BN with {} layers\".format(k))\n",
        "    model = ResNet_noBN(k).cuda()\n",
        "    optimizer = torch.optim.SGD(model.parameters(), lr=lr, momentum=0.9)\n",
        "    train_errs, test_errs = train(3, model, criterion, optimizer, train_loader, test_loader)"
      ],
      "metadata": {
        "colab": {
          "base_uri": "https://localhost:8080/"
        },
        "id": "vZOSkcX-88Gf",
        "outputId": "00a3ee1b-fc69-4108-ea5e-6b69e3b966ec"
      },
      "execution_count": 129,
      "outputs": [
        {
          "output_type": "stream",
          "name": "stdout",
          "text": [
            "Learning rate 0.005\n",
            "\n",
            "Training ResNet w/o BN with 18 layers\n",
            "Epoch 001/003, Train Error 12.82% || Test Error 2.49%\n",
            "Epoch 002/003, Train Error 2.65% || Test Error 2.27%\n",
            "Epoch 003/003, Train Error 1.95% || Test Error 1.65%\n",
            "\n",
            "Training ResNet w/o BN with 21 layers\n",
            "Epoch 001/003, Train Error 90.08% || Test Error 90.20%\n",
            "Epoch 002/003, Train Error 90.13% || Test Error 90.20%\n",
            "Epoch 003/003, Train Error 90.13% || Test Error 90.20%\n",
            "\n",
            "Training ResNet w/o BN with 24 layers\n",
            "Epoch 001/003, Train Error 10.99% || Test Error 2.54%\n",
            "Epoch 002/003, Train Error 2.28% || Test Error 1.91%\n",
            "Epoch 003/003, Train Error 1.73% || Test Error 1.56%\n"
          ]
        }
      ]
    },
    {
      "cell_type": "markdown",
      "metadata": {
        "id": "EV_vayTUCMJc"
      },
      "source": [
        "**<font color='blue'>\n",
        "    Compare ResNet and ResNet_noBN in terms of how deep each could be while being trainable, and discuss your thoughts one how batch norm interacts with residual connections.\n",
        "</font>**\n",
        "\n",
        "**<font color='red'> --------------------------------------------------------------------- ANSWER (BEGIN) ---------------------------------------------------------------------\n",
        "</font>**"
      ]
    },
    {
      "cell_type": "markdown",
      "source": [
        "resnet without the batchnorm layer really starts to falter quickly! My guess is that batch norm is super helpful with residual connections by forcing things back to being in the same-ish range of values. Without batch normalisation, adding residuals just blows things up more quickly, and the deeper the network, the worse it gets!"
      ],
      "metadata": {
        "id": "gq-hcura973A"
      }
    },
    {
      "cell_type": "markdown",
      "metadata": {
        "id": "zdqTHhOJCPVu"
      },
      "source": [
        "**<font color='red'> ---------------------------------------------------------------------- ANSWER (END) ----------------------------------------------------------------------\n",
        "</font>**"
      ]
    },
    {
      "cell_type": "markdown",
      "metadata": {
        "id": "mjZF-f5PCgZ9"
      },
      "source": [
        "### (Optional) Multiple Loss Heads\n",
        "\n",
        "In this optional section, your goal is to incorporate the idea of having multiple loss heads throughout the network, distributed across its depth.\n",
        "\n",
        "For the CNNelu_multihead model below, you should take the CNNelu model that you implemented previously and add two additional classification heads, connected to the outputs of stages 1 and 2.\n",
        "\n",
        "More specifically, the outputs of stages 1 and 2, with shapes 4x14x14 and 8x7x7, should be connected to new fully-connected layers that map them to a 10-dimensional vector (logits for the 10 MNIST classes). The network should output three logit vectors (the original one at the end of the network plus the two new ones) instead of just one, and the loss should be computed as the average of the cross entropies between the true target and each of the three predictions.\n",
        "\n",
        "Note that you will likely have to change the implementation of train_epoch() and test() to accomodate the fact that this model will output three logit vectors instead of one."
      ]
    },
    {
      "cell_type": "code",
      "execution_count": null,
      "metadata": {
        "id": "Kjq7whPVDR--"
      },
      "outputs": [],
      "source": [
        "class CNNelu_multihead(nn.Module):\n",
        "    def __init__(self, k):\n",
        "        super(CNNelu_multihead, self).__init__()\n",
        "\n",
        "        # write code here to instantiate layers\n",
        "        # for example, self.conv = nn.Conv2d(1, 4, 3, 1, 1)\n",
        "        # creates a conv layer with 1 input channel, 4 output\n",
        "        # channels, a 3x3 kernel, and stride=padding=1\n",
        "\n",
        "\n",
        "        for m in self.modules():\n",
        "            if isinstance(m, nn.Conv2d):\n",
        "                # insert code to compute sigma\n",
        "                sigma =\n",
        "                m.weight.data.normal_(0, sigma)\n",
        "                m.bias.data.zero_()\n",
        "\n",
        "    def forward(self, input):\n",
        "        # write code here to define how the output u is computed\n",
        "        # from the input and the model's layers\n",
        "        # for example, u = self.conv(input) defines u\n",
        "        # to be simply the output of self.conv given 'input'\n",
        "\n",
        "        return u1, u2, u3"
      ]
    },
    {
      "cell_type": "markdown",
      "metadata": {
        "id": "SmTspBA6Fnfr"
      },
      "source": [
        "Repeat the procedure of finding the maximum number of layers such that the network is still trainable, this time with CNNelu_multihead."
      ]
    },
    {
      "cell_type": "code",
      "execution_count": null,
      "metadata": {
        "id": "ovdjbI8jJttc"
      },
      "outputs": [],
      "source": [
        "k =\n",
        "lr =\n",
        "\n",
        "print(\"\\nTraining ELU CNN + multiloss with {} layers\".format(k))\n",
        "model = CNNelu_multihead(k).cuda()\n",
        "optimizer = torch.optim.SGD(model.parameters(), lr=lr, momentum=0.9)\n",
        "train_errs, test_errs = train(3, model, criterion, optimizer, train_loader, test_loader)"
      ]
    },
    {
      "cell_type": "markdown",
      "metadata": {
        "id": "v1x_FYzEFsoj"
      },
      "source": [
        "**<font color='blue'>\n",
        "    Did the adoption of multiple loss heads help train deeper models? How did it compare to the adoption of batch normalization, in terms of how deeper each of the two approaches enabled the network to be while staying trainable?\n",
        "</font>**\n",
        "\n",
        "**<font color='red'> --------------------------------------------------------------------- ANSWER (BEGIN) ---------------------------------------------------------------------\n",
        "</font>**"
      ]
    },
    {
      "cell_type": "markdown",
      "metadata": {
        "id": "djfPeR3xFt9U"
      },
      "source": [
        "**<font color='red'> ---------------------------------------------------------------------- ANSWER (END) ----------------------------------------------------------------------\n",
        "</font>**"
      ]
    }
  ],
  "metadata": {
    "accelerator": "GPU",
    "anaconda-cloud": {},
    "colab": {
      "provenance": [],
      "gpuType": "T4"
    },
    "kernelspec": {
      "display_name": "Python 3",
      "name": "python3"
    },
    "language_info": {
      "codemirror_mode": {
        "name": "ipython",
        "version": 3
      },
      "file_extension": ".py",
      "mimetype": "text/x-python",
      "name": "python",
      "nbconvert_exporter": "python",
      "pygments_lexer": "ipython3",
      "version": "3.9.1"
    }
  },
  "nbformat": 4,
  "nbformat_minor": 0
}